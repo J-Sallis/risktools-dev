{
 "cells": [
  {
   "cell_type": "code",
   "execution_count": null,
   "id": "97d5d964-8232-4cdd-a146-06ff1beaac3d",
   "metadata": {},
   "outputs": [],
   "source": [
    "%load_ext autoreload\n",
    "%autoreload 2\n",
    "import pandas as pd \n",
    "import numpy as np\n",
    "from numpy.random import default_rng\n",
    "import risktools as rt\n",
    "from time import time\n"
   ]
  },
  {
   "cell_type": "code",
   "execution_count": null,
   "id": "2a517edd",
   "metadata": {},
   "outputs": [],
   "source": [
    "T = 10\n",
    "sims = 10000\n",
    "dt = 1/252"
   ]
  },
  {
   "cell_type": "code",
   "execution_count": null,
   "id": "d81f3b8b",
   "metadata": {},
   "outputs": [],
   "source": [
    "sigma = np.ones((int(T/dt), sims)) * 0.2"
   ]
  },
  {
   "cell_type": "code",
   "execution_count": null,
   "id": "5768d452",
   "metadata": {},
   "outputs": [],
   "source": [
    "sigma[int(T/dt/2):,:] = 0.5"
   ]
  },
  {
   "cell_type": "code",
   "execution_count": null,
   "id": "7ea6d0d4",
   "metadata": {},
   "outputs": [],
   "source": [
    "rt.simOU(sigma=sigma, log_price=False, sims=sims, T=T, dt=dt, c=False).iloc[:,:100].plot(legend=False)"
   ]
  },
  {
   "cell_type": "code",
   "execution_count": null,
   "id": "7ea6d0d4",
   "metadata": {},
   "outputs": [],
   "source": [
    "rt.simOU(sigma=sigma, log_price=False, sims=sims, T=T, dt=dt, c=True).iloc[:,:100].plot(legend=False)"
   ]
  },
  {
   "cell_type": "code",
   "execution_count": null,
   "id": "7ea6d0d4",
   "metadata": {},
   "outputs": [],
   "source": [
    "rt.simOU(sigma=sigma, log_price=False, sims=sims, T=T, dt=dt, c=True).iloc[:,:100].plot(legend=False)"
   ]
  },
  {
   "cell_type": "code",
   "execution_count": null,
   "id": "13428385",
   "metadata": {},
   "outputs": [],
   "source": [
    "%%timeit -n1 -r3\n",
    "rt.simOU(log_price=False, sims=sims, T=T, c=False)"
   ]
  },
  {
   "cell_type": "code",
   "execution_count": null,
   "id": "13428385",
   "metadata": {},
   "outputs": [],
   "source": [
    "%%timeit -n1 -r3\n",
    "rt.simOU(log_price=True, sims=sims, T=T, c=False)"
   ]
  },
  {
   "cell_type": "code",
   "execution_count": null,
   "id": "a4dac82e",
   "metadata": {},
   "outputs": [],
   "source": [
    "%%timeit -n1 -r3\n",
    "rt.simOU(log_price=False, sims=sims, T=T, c=True)"
   ]
  },
  {
   "cell_type": "code",
   "execution_count": null,
   "id": "a4dac82e",
   "metadata": {},
   "outputs": [],
   "source": [
    "%%timeit -n1 -r3\n",
    "rt.simOU(log_price=True, sims=sims, T=T, c=True)"
   ]
  },
  {
   "cell_type": "code",
   "execution_count": null,
   "id": "c41ea6de",
   "metadata": {},
   "outputs": [],
   "source": [
    "2.33/3.66"
   ]
  },
  {
   "cell_type": "code",
   "execution_count": null,
   "id": "bb8bd8c5",
   "metadata": {},
   "outputs": [],
   "source": [
    "from numpy.random import default_rng"
   ]
  },
  {
   "cell_type": "code",
   "execution_count": null,
   "id": "6f20e538",
   "metadata": {},
   "outputs": [],
   "source": [
    "rng = default_rng()"
   ]
  },
  {
   "cell_type": "code",
   "execution_count": null,
   "id": "5e125d16",
   "metadata": {},
   "outputs": [],
   "source": [
    "rng.normal()"
   ]
  },
  {
   "cell_type": "code",
   "execution_count": null,
   "id": "319c17b0",
   "metadata": {},
   "outputs": [],
   "source": [
    "# x = rt.simGBM_MV(s0=[5,5], r=0.01, sigma=[0.2,0.2], T=1, dt=1/252, cor=[[1,0],[0,1]], sims=100)\n",
    "# pd.DataFrame(x[:,:,0]).plot(legend=False)"
   ]
  },
  {
   "cell_type": "code",
   "execution_count": null,
   "id": "6b86b30d",
   "metadata": {},
   "outputs": [],
   "source": [
    "import numpy as np\n",
    "import risktools as rt"
   ]
  },
  {
   "cell_type": "code",
   "execution_count": null,
   "id": "09f1295c",
   "metadata": {},
   "outputs": [],
   "source": [
    "s0 = 5\n",
    "mu = 4\n",
    "theta = 2\n",
    "dt = 1/252\n",
    "T = 1\n",
    "sigma = 0.32\n",
    "\n",
    "sigma = np.ones((252, 1000)) * 0.1\n",
    "sigma[100:,:] = 0.5\n",
    "\n",
    "df = rt.simOU(s0, mu, theta, sigma, T=1, dt=1/252, sims=1000, seed=12345, log_price=False, c=False)\n",
    "\n",
    "df.iloc[152,:].std()/df.iloc[25,:].std()"
   ]
  },
  {
   "cell_type": "code",
   "execution_count": null,
   "id": "153eed3b",
   "metadata": {},
   "outputs": [],
   "source": [
    "df.iloc[:,:100].plot(legend=False)"
   ]
  },
  {
   "cell_type": "code",
   "execution_count": null,
   "id": "1520af6f",
   "metadata": {},
   "outputs": [],
   "source": []
  },
  {
   "cell_type": "code",
   "execution_count": 1,
   "id": "97d5d964-8232-4cdd-a146-06ff1beaac3d",
   "metadata": {},
   "outputs": [],
   "source": [
    "%load_ext autoreload\n",
    "%autoreload 2\n",
    "import pandas as pd \n",
    "import numpy as np\n",
    "from numpy.random import default_rng\n",
    "import risktools as rt\n",
    "from time import time\n"
   ]
  },
  {
   "cell_type": "code",
   "execution_count": 2,
   "id": "58eaadb1",
   "metadata": {},
   "outputs": [
    {
     "data": {
      "text/plain": [
       "<function extensions.csimOUJ>"
      ]
     },
     "execution_count": 2,
     "metadata": {},
     "output_type": "execute_result"
    }
   ],
   "source": [
    "rt.extensions.csimOUJ"
   ]
  },
  {
   "cell_type": "code",
   "execution_count": null,
   "id": "2a517edd",
   "metadata": {},
   "outputs": [],
   "source": [
    "T = 10\n",
    "sims = 10000\n",
    "dt = 1/252"
   ]
  },
  {
   "cell_type": "code",
   "execution_count": null,
   "id": "1f64f587",
   "metadata": {},
   "outputs": [],
   "source": []
  }
 ],
 "metadata": {
  "kernelspec": {
   "display_name": "env",
   "language": "python",
   "name": "python3"
  },
  "language_info": {
   "codemirror_mode": {
    "name": "ipython",
    "version": 3
   },
   "file_extension": ".py",
   "mimetype": "text/x-python",
   "name": "python",
   "nbconvert_exporter": "python",
   "pygments_lexer": "ipython3",
   "version": "3.10.6"
  },
  "vscode": {
   "interpreter": {
    "hash": "84fcf7a5011512645152dc1bd8c03e47040a5959e4046ddce3e49c73a0dfefca"
   }
  }
 },
 "nbformat": 4,
 "nbformat_minor": 5
}
