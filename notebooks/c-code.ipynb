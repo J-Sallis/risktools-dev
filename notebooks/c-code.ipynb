{
 "cells": [
  {
   "cell_type": "code",
   "execution_count": 1,
   "id": "97d5d964-8232-4cdd-a146-06ff1beaac3d",
   "metadata": {},
   "outputs": [],
   "source": [
    "%load_ext autoreload\n",
    "%autoreload 2\n",
    "import pandas as pd \n",
    "import numpy as np\n",
    "from numpy.random import default_rng\n",
    "import risktools as rt\n",
    "from time import time"
   ]
  },
  {
   "cell_type": "code",
   "execution_count": 2,
   "id": "13428385",
   "metadata": {},
   "outputs": [
    {
     "name": "stdout",
     "output_type": "stream",
     "text": [
      "Half-life of theta in days =  87.3365447505531\n",
      "7.20788049697876\n"
     ]
    }
   ],
   "source": [
    "ST = time()\n",
    "rt.simOU(log_price=False, sims=50000, T=10)\n",
    "print(time()-ST)"
   ]
  },
  {
   "cell_type": "code",
   "execution_count": 4,
   "id": "319c17b0",
   "metadata": {},
   "outputs": [],
   "source": [
    "# x = rt.simGBM_MV(s0=[5,5], r=0.01, sigma=[0.2,0.2], T=1, dt=1/252, cor=[[1,0],[0,1]], sims=100)\n",
    "# pd.DataFrame(x[:,:,0]).plot(legend=False)"
   ]
  },
  {
   "cell_type": "code",
   "execution_count": null,
   "id": "09f1295c",
   "metadata": {},
   "outputs": [],
   "source": []
  }
 ],
 "metadata": {
  "kernelspec": {
   "display_name": "env",
   "language": "python",
   "name": "python3"
  },
  "language_info": {
   "codemirror_mode": {
    "name": "ipython",
    "version": 3
   },
   "file_extension": ".py",
   "mimetype": "text/x-python",
   "name": "python",
   "nbconvert_exporter": "python",
   "pygments_lexer": "ipython3",
   "version": "3.10.6"
  },
  "vscode": {
   "interpreter": {
    "hash": "84fcf7a5011512645152dc1bd8c03e47040a5959e4046ddce3e49c73a0dfefca"
   }
  }
 },
 "nbformat": 4,
 "nbformat_minor": 5
}
