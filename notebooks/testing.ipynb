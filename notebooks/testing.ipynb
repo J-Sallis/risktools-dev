{
 "cells": [
  {
   "cell_type": "code",
   "execution_count": 4,
   "metadata": {},
   "outputs": [],
   "source": [
    "import risktools as rt\n",
    "from loader import _load_json\n",
    "import pandas as pd\n",
    "import os"
   ]
  },
  {
   "cell_type": "code",
   "execution_count": 5,
   "metadata": {},
   "outputs": [],
   "source": [
    "up = {\"m*\": {\"user\": \"\", \"pass\": \"\"}, \"eia\": \"\", \"quandl\": \"\"}\n",
    "\n",
    "up[\"eia\"] = os.getenv(\"EIA\")\n",
    "up[\"quandl\"] = os.getenv(\"QUANDL\")\n",
    "up[\"m*\"][\"pass\"] = os.getenv(\"MS_PASS\")\n",
    "up[\"m*\"][\"user\"] = os.getenv(\"MS_USER\")\n"
   ]
  },
  {
   "cell_type": "code",
   "execution_count": 11,
   "metadata": {},
   "outputs": [
    {
     "name": "stdout",
     "output_type": "stream",
     "text": [
      "        series       date  value\n",
      "0    TexasProd 2021-10-01   4906\n",
      "1    TexasProd 2021-09-01   4950\n",
      "2    TexasProd 2021-08-01   4865\n",
      "3    TexasProd 2021-07-01   4812\n",
      "4    TexasProd 2021-06-01   4782\n",
      "..         ...        ...    ...\n",
      "485  TexasProd 1981-05-01   2577\n",
      "486  TexasProd 1981-04-01   2578\n",
      "487  TexasProd 1981-03-01   2604\n",
      "488  TexasProd 1981-02-01   2593\n",
      "489  TexasProd 1981-01-01   2600\n",
      "\n",
      "[490 rows x 3 columns]\n"
     ]
    }
   ],
   "source": [
    "ac = _load_json(\"../pytest/eia2tidy1.json\")\n",
    "ac = ac[[\"date\", \"value\"]].set_index(\"date\").sort_index().value\n",
    "ts = rt.get_eia_df(\"PET.MCRFPTX2.M\", key=up[\"eia\"])\n",
    "ts = ts[[\"date\", \"value\"]].set_index(\"date\").sort_index().value\n",
    "ts = ts[ac.index.min() : ac.index.max()]\n",
    "\n",
    "# assert ac.equals(ts), \"get_eia_df Test 1 failed\"\n",
    "pd.testing.assert_series_equal(ac, ts)\n"
   ]
  },
  {
   "cell_type": "code",
   "execution_count": 12,
   "metadata": {},
   "outputs": [
    {
     "data": {
      "text/plain": [
       "date\n",
       "1981-01-01    2600\n",
       "1981-02-01    2593\n",
       "1981-03-01    2604\n",
       "1981-04-01    2578\n",
       "1981-05-01    2577\n",
       "              ... \n",
       "2021-06-01    4782\n",
       "2021-07-01    4812\n",
       "2021-08-01    4865\n",
       "2021-09-01    4950\n",
       "2021-10-01    4906\n",
       "Name: value, Length: 490, dtype: int64"
      ]
     },
     "execution_count": 12,
     "metadata": {},
     "output_type": "execute_result"
    }
   ],
   "source": [
    "ts"
   ]
  },
  {
   "cell_type": "code",
   "execution_count": 58,
   "metadata": {},
   "outputs": [
    {
     "name": "stdout",
     "output_type": "stream",
     "text": [
      "            series       date  value\n",
      "0     CrudeCushing 2021-12-24  34729\n",
      "1     CrudeCushing 2021-12-17  33674\n",
      "2     CrudeCushing 2021-12-10  32211\n",
      "3     CrudeCushing 2021-12-03  30917\n",
      "4     CrudeCushing 2021-11-26  28544\n",
      "...            ...        ...    ...\n",
      "1546     NGLower48 2010-01-29   2406\n",
      "1547     NGLower48 2010-01-22   2521\n",
      "1548     NGLower48 2010-01-15   2607\n",
      "1549     NGLower48 2010-01-08   2850\n",
      "1550     NGLower48 2010-01-01   3117\n",
      "\n",
      "[1551 rows x 3 columns]\n"
     ]
    }
   ],
   "source": [
    "\n",
    "ac = _load_json(\"eia2tidy2.json\")\n",
    "ac = ac.set_index([\"series\", \"date\"]).sort_index().value\n",
    "ts = rt.get_eia_df(\n",
    "    [\"PET.W_EPC0_SAX_YCUOK_MBBL.W\", \"NG.NW2_EPG0_SWO_R48_BCF.W\"], key=up[\"eia\"]\n",
    ")\n",
    "ts.date = pd.to_datetime(ts.date)\n",
    "ts.table_name = ts.table_name.map(\n",
    "    {\n",
    "        \"Cushing, OK Ending Stocks excluding SPR of Crude Oil, Weekly\": \"CrudeCushing\",\n",
    "        \"Weekly Lower 48 States Natural Gas Working Underground Storage, Weekly\": \"NGLower48\",\n",
    "    }\n",
    ")\n",
    "\n",
    "ts = (\n",
    "    ts.rename({\"table_name\": \"series\"}, axis=1)\n",
    "    .set_index([\"series\", \"date\"])\n",
    "    .sort_index()\n",
    "    .value\n",
    ")\n"
   ]
  },
  {
   "cell_type": "code",
   "execution_count": 59,
   "metadata": {},
   "outputs": [],
   "source": [
    "cmin = ac['CrudeCushing'].index.min()\n",
    "cmax = ac['CrudeCushing'].index.max()\n",
    "\n",
    "nmin = ac['NGLower48'].index.min()\n",
    "nmax = ac['NGLower48'].index.max()"
   ]
  },
  {
   "cell_type": "code",
   "execution_count": 60,
   "metadata": {},
   "outputs": [],
   "source": [
    "ts = ts.loc[('CrudeCushing',slice(cmin,cmax))].append(ts.loc[('NGLower48',slice(nmin,nmax))])"
   ]
  },
  {
   "cell_type": "code",
   "execution_count": 69,
   "metadata": {},
   "outputs": [],
   "source": [
    "pd.testing.assert_series_equal(ac, ts)"
   ]
  },
  {
   "cell_type": "code",
   "execution_count": null,
   "metadata": {},
   "outputs": [],
   "source": []
  }
 ],
 "metadata": {
  "interpreter": {
   "hash": "9fbe634f9562e796831996637797c349760f1b08f608075058b04934cd8ab532"
  },
  "kernelspec": {
   "display_name": "Python 3.9.7 64-bit ('risktools': conda)",
   "language": "python",
   "name": "python3"
  },
  "language_info": {
   "codemirror_mode": {
    "name": "ipython",
    "version": 3
   },
   "file_extension": ".py",
   "mimetype": "text/x-python",
   "name": "python",
   "nbconvert_exporter": "python",
   "pygments_lexer": "ipython3",
   "version": "3.9.7"
  },
  "orig_nbformat": 4
 },
 "nbformat": 4,
 "nbformat_minor": 2
}
