{
 "cells": [
  {
   "cell_type": "code",
   "execution_count": 3,
   "metadata": {},
   "outputs": [
    {
     "name": "stdout",
     "output_type": "stream",
     "text": [
      "The autoreload extension is already loaded. To reload it, use:\n",
      "  %reload_ext autoreload\n"
     ]
    }
   ],
   "source": [
    "%load_ext autoreload\n",
    "%autoreload 2\n",
    "%matplotlib inline\n",
    "\n",
    "import risktools as rt\n",
    "from loader import _load_json\n",
    "import pandas as pd\n",
    "import os\n",
    "import numpy as np\n",
    "import matplotlib.pyplot as plt"
   ]
  },
  {
   "cell_type": "code",
   "execution_count": 4,
   "metadata": {},
   "outputs": [],
   "source": [
    "up = {\"m*\": {\"user\": \"\", \"pass\": \"\"}, \"eia\": \"\", \"quandl\": \"\"}\n",
    "\n",
    "up[\"eia\"] = os.getenv(\"EIA\")\n",
    "up[\"quandl\"] = os.getenv(\"QUANDL\")\n",
    "up[\"m*\"][\"pass\"] = os.getenv(\"MS_PASS\")\n",
    "up[\"m*\"][\"user\"] = os.getenv(\"MS_USER\")\n"
   ]
  },
  {
   "cell_type": "code",
   "execution_count": 5,
   "metadata": {},
   "outputs": [],
   "source": [
    "assets = rt.simGBM_MV(s0=[100,100, 100], r=0.01, sigma=[0.1,0.1,0.1], T=1, dt=1/252, cor=[[1,0.5,0.5],[0.5,1,0.5],[0.5,0.5,1]])\n",
    "assets = rt.calc_payoffs(assets)"
   ]
  },
  {
   "cell_type": "code",
   "execution_count": 6,
   "metadata": {},
   "outputs": [],
   "source": [
    "weights = rt.generate_random_portfolio_weights(3, 100)"
   ]
  },
  {
   "cell_type": "code",
   "execution_count": 8,
   "metadata": {},
   "outputs": [],
   "source": [
    "port = rt.sim_efficient_frontier(assets=assets, weights=weights)"
   ]
  },
  {
   "cell_type": "code",
   "execution_count": 11,
   "metadata": {},
   "outputs": [
    {
     "data": {
      "text/html": [
       "<div>\n",
       "<style scoped>\n",
       "    .dataframe tbody tr th:only-of-type {\n",
       "        vertical-align: middle;\n",
       "    }\n",
       "\n",
       "    .dataframe tbody tr th {\n",
       "        vertical-align: top;\n",
       "    }\n",
       "\n",
       "    .dataframe thead th {\n",
       "        text-align: right;\n",
       "    }\n",
       "</style>\n",
       "<table border=\"1\" class=\"dataframe\">\n",
       "  <thead>\n",
       "    <tr style=\"text-align: right;\">\n",
       "      <th></th>\n",
       "      <th>Risk</th>\n",
       "      <th>Expected Return</th>\n",
       "      <th>A</th>\n",
       "      <th>B</th>\n",
       "      <th>C</th>\n",
       "    </tr>\n",
       "  </thead>\n",
       "  <tbody>\n",
       "    <tr>\n",
       "      <th>0</th>\n",
       "      <td>129.831158</td>\n",
       "      <td>25366.951810</td>\n",
       "      <td>0.096321</td>\n",
       "      <td>0.171873</td>\n",
       "      <td>0.731806</td>\n",
       "    </tr>\n",
       "    <tr>\n",
       "      <th>1</th>\n",
       "      <td>121.136204</td>\n",
       "      <td>25364.706945</td>\n",
       "      <td>0.204814</td>\n",
       "      <td>0.397682</td>\n",
       "      <td>0.397504</td>\n",
       "    </tr>\n",
       "    <tr>\n",
       "      <th>2</th>\n",
       "      <td>128.019895</td>\n",
       "      <td>25366.335332</td>\n",
       "      <td>0.058613</td>\n",
       "      <td>0.264268</td>\n",
       "      <td>0.677118</td>\n",
       "    </tr>\n",
       "    <tr>\n",
       "      <th>3</th>\n",
       "      <td>121.030226</td>\n",
       "      <td>25365.554689</td>\n",
       "      <td>0.383890</td>\n",
       "      <td>0.213359</td>\n",
       "      <td>0.402750</td>\n",
       "    </tr>\n",
       "    <tr>\n",
       "      <th>4</th>\n",
       "      <td>132.873482</td>\n",
       "      <td>25365.090279</td>\n",
       "      <td>0.793900</td>\n",
       "      <td>0.085620</td>\n",
       "      <td>0.120479</td>\n",
       "    </tr>\n",
       "    <tr>\n",
       "      <th>...</th>\n",
       "      <td>...</td>\n",
       "      <td>...</td>\n",
       "      <td>...</td>\n",
       "      <td>...</td>\n",
       "      <td>...</td>\n",
       "    </tr>\n",
       "    <tr>\n",
       "      <th>95</th>\n",
       "      <td>121.240558</td>\n",
       "      <td>25364.010877</td>\n",
       "      <td>0.356597</td>\n",
       "      <td>0.414520</td>\n",
       "      <td>0.228883</td>\n",
       "    </tr>\n",
       "    <tr>\n",
       "      <th>96</th>\n",
       "      <td>127.935961</td>\n",
       "      <td>25362.551327</td>\n",
       "      <td>0.424353</td>\n",
       "      <td>0.562588</td>\n",
       "      <td>0.013059</td>\n",
       "    </tr>\n",
       "    <tr>\n",
       "      <th>97</th>\n",
       "      <td>124.201406</td>\n",
       "      <td>25363.137587</td>\n",
       "      <td>0.359963</td>\n",
       "      <td>0.519846</td>\n",
       "      <td>0.120190</td>\n",
       "    </tr>\n",
       "    <tr>\n",
       "      <th>98</th>\n",
       "      <td>127.417729</td>\n",
       "      <td>25363.058221</td>\n",
       "      <td>0.075590</td>\n",
       "      <td>0.657560</td>\n",
       "      <td>0.266850</td>\n",
       "    </tr>\n",
       "    <tr>\n",
       "      <th>99</th>\n",
       "      <td>123.601290</td>\n",
       "      <td>25363.277539</td>\n",
       "      <td>0.252374</td>\n",
       "      <td>0.551153</td>\n",
       "      <td>0.196473</td>\n",
       "    </tr>\n",
       "  </tbody>\n",
       "</table>\n",
       "<p>100 rows × 5 columns</p>\n",
       "</div>"
      ],
      "text/plain": [
       "          Risk  Expected Return         A         B         C\n",
       "0   129.831158     25366.951810  0.096321  0.171873  0.731806\n",
       "1   121.136204     25364.706945  0.204814  0.397682  0.397504\n",
       "2   128.019895     25366.335332  0.058613  0.264268  0.677118\n",
       "3   121.030226     25365.554689  0.383890  0.213359  0.402750\n",
       "4   132.873482     25365.090279  0.793900  0.085620  0.120479\n",
       "..         ...              ...       ...       ...       ...\n",
       "95  121.240558     25364.010877  0.356597  0.414520  0.228883\n",
       "96  127.935961     25362.551327  0.424353  0.562588  0.013059\n",
       "97  124.201406     25363.137587  0.359963  0.519846  0.120190\n",
       "98  127.417729     25363.058221  0.075590  0.657560  0.266850\n",
       "99  123.601290     25363.277539  0.252374  0.551153  0.196473\n",
       "\n",
       "[100 rows x 5 columns]"
      ]
     },
     "execution_count": 11,
     "metadata": {},
     "output_type": "execute_result"
    }
   ],
   "source": [
    "rt.make_efficient_frontier_table(port, weights, ['A','B','C'])"
   ]
  },
  {
   "cell_type": "code",
   "execution_count": null,
   "metadata": {},
   "outputs": [],
   "source": []
  }
 ],
 "metadata": {
  "interpreter": {
   "hash": "9fbe634f9562e796831996637797c349760f1b08f608075058b04934cd8ab532"
  },
  "kernelspec": {
   "display_name": "Python 3.9.7 64-bit ('risktools': conda)",
   "language": "python",
   "name": "python3"
  },
  "language_info": {
   "codemirror_mode": {
    "name": "ipython",
    "version": 3
   },
   "file_extension": ".py",
   "mimetype": "text/x-python",
   "name": "python",
   "nbconvert_exporter": "python",
   "pygments_lexer": "ipython3",
   "version": "3.9.7"
  },
  "orig_nbformat": 4
 },
 "nbformat": 4,
 "nbformat_minor": 2
}
