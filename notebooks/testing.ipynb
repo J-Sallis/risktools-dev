{
 "cells": [
  {
   "cell_type": "code",
   "execution_count": 2,
   "metadata": {},
   "outputs": [
    {
     "name": "stdout",
     "output_type": "stream",
     "text": [
      "The autoreload extension is already loaded. To reload it, use:\n",
      "  %reload_ext autoreload\n"
     ]
    }
   ],
   "source": [
    "%load_ext autoreload\n",
    "%autoreload 2\n",
    "%matplotlib inline\n",
    "\n",
    "import risktools as rt\n",
    "# from loader import _load_json\n",
    "import pandas as pd\n",
    "import os\n",
    "import numpy as np\n",
    "import matplotlib.pyplot as plt"
   ]
  },
  {
   "cell_type": "code",
   "execution_count": 16,
   "metadata": {},
   "outputs": [],
   "source": [
    "import requests\n",
    "import json"
   ]
  },
  {
   "cell_type": "code",
   "execution_count": 14,
   "metadata": {},
   "outputs": [],
   "source": [
    "tbl = 'PET.WDIIM_R20-Z00_2.W'\n",
    "key = '35d2c04d0a266f0cc2ca8ce655d4ee45'\n",
    "url = f\"http://api.eia.gov/v2/seriesid/{tbl}?api_key={key}\""
   ]
  },
  {
   "cell_type": "code",
   "execution_count": 23,
   "metadata": {},
   "outputs": [
    {
     "ename": "AttributeError",
     "evalue": "module 'risktools' has no attribute 'get_eia_df_v2'",
     "output_type": "error",
     "traceback": [
      "\u001b[0;31m---------------------------------------------------------------------------\u001b[0m",
      "\u001b[0;31mAttributeError\u001b[0m                            Traceback (most recent call last)",
      "Cell \u001b[0;32mIn [23], line 1\u001b[0m\n\u001b[0;32m----> 1\u001b[0m rt\u001b[39m.\u001b[39;49mget_eia_df_v2(tbl, key)\n",
      "\u001b[0;31mAttributeError\u001b[0m: module 'risktools' has no attribute 'get_eia_df_v2'"
     ]
    }
   ],
   "source": [
    "rt.get_eia_df_v2(tbl, key)"
   ]
  },
  {
   "cell_type": "code",
   "execution_count": null,
   "metadata": {},
   "outputs": [],
   "source": []
  },
  {
   "cell_type": "code",
   "execution_count": null,
   "metadata": {},
   "outputs": [],
   "source": []
  },
  {
   "cell_type": "code",
   "execution_count": 3,
   "metadata": {},
   "outputs": [],
   "source": [
    "up = {\"m*\": {\"user\": \"\", \"pass\": \"\"}, \"eia\": \"\", \"quandl\": \"\"}\n",
    "\n",
    "up[\"eia\"] = os.getenv(\"EIA\")\n",
    "up[\"quandl\"] = os.getenv(\"QUANDL\")\n",
    "up[\"m*\"][\"pass\"] = os.getenv(\"MS_PASS\")\n",
    "up[\"m*\"][\"user\"] = os.getenv(\"MS_USER\")\n"
   ]
  },
  {
   "cell_type": "code",
   "execution_count": 5,
   "metadata": {},
   "outputs": [
    {
     "data": {
      "text/plain": [
       "['cancrudeassays',\n",
       " 'cancrudeassayssum',\n",
       " 'cancrudeprices',\n",
       " 'crudeassaysBP',\n",
       " 'crudeassaysXOM',\n",
       " 'crudes',\n",
       " 'dflong',\n",
       " 'dfwide',\n",
       " 'df_fut',\n",
       " 'eiaStocks',\n",
       " 'eiaStorageCap',\n",
       " 'expiry_table',\n",
       " 'fizdiffs',\n",
       " 'holidaysOil',\n",
       " 'planets',\n",
       " 'ref_opt_inputs',\n",
       " 'ref_opt_outputs',\n",
       " 'tickers_eia',\n",
       " 'tradeCycle',\n",
       " 'tradeprocess',\n",
       " 'usSwapCurves',\n",
       " 'usSwapCurvesPar',\n",
       " 'usSwapIR',\n",
       " 'usSwapIRdef',\n",
       " 'wti_swap',\n",
       " 'ry',\n",
       " 'CLc1',\n",
       " 'CLc2',\n",
       " 'CLc1c2',\n",
       " 'futures_months',\n",
       " 'futures_specs',\n",
       " 'ohlc',\n",
       " 'spy']"
      ]
     },
     "execution_count": 5,
     "metadata": {},
     "output_type": "execute_result"
    }
   ],
   "source": [
    "rt.data.get_names()"
   ]
  },
  {
   "cell_type": "code",
   "execution_count": 11,
   "metadata": {},
   "outputs": [
    {
     "name": "stdout",
     "output_type": "stream",
     "text": [
      "cancrudeassays\n",
      "cancrudeprices\n",
      "crudeassaysBP\n"
     ]
    },
    {
     "name": "stderr",
     "output_type": "stream",
     "text": [
      "/home/bcho/PROJECTS/risktools-dev/src/risktools/data/__init__.py:152: FutureWarning: The frame.append method is deprecated and will be removed from pandas in a future version. Use pandas.concat instead.\n",
      "  rf = rf.append(tmp)\n",
      "/home/bcho/PROJECTS/risktools-dev/src/risktools/data/__init__.py:152: FutureWarning: The frame.append method is deprecated and will be removed from pandas in a future version. Use pandas.concat instead.\n",
      "  rf = rf.append(tmp)\n",
      "/home/bcho/PROJECTS/risktools-dev/src/risktools/data/__init__.py:152: FutureWarning: The frame.append method is deprecated and will be removed from pandas in a future version. Use pandas.concat instead.\n",
      "  rf = rf.append(tmp)\n",
      "/home/bcho/PROJECTS/risktools-dev/src/risktools/data/__init__.py:152: FutureWarning: The frame.append method is deprecated and will be removed from pandas in a future version. Use pandas.concat instead.\n",
      "  rf = rf.append(tmp)\n",
      "/home/bcho/PROJECTS/risktools-dev/src/risktools/data/__init__.py:152: FutureWarning: The frame.append method is deprecated and will be removed from pandas in a future version. Use pandas.concat instead.\n",
      "  rf = rf.append(tmp)\n",
      "/home/bcho/PROJECTS/risktools-dev/src/risktools/data/__init__.py:152: FutureWarning: The frame.append method is deprecated and will be removed from pandas in a future version. Use pandas.concat instead.\n",
      "  rf = rf.append(tmp)\n",
      "/home/bcho/PROJECTS/risktools-dev/src/risktools/data/__init__.py:152: FutureWarning: The frame.append method is deprecated and will be removed from pandas in a future version. Use pandas.concat instead.\n",
      "  rf = rf.append(tmp)\n",
      "/home/bcho/PROJECTS/risktools-dev/src/risktools/data/__init__.py:152: FutureWarning: The frame.append method is deprecated and will be removed from pandas in a future version. Use pandas.concat instead.\n",
      "  rf = rf.append(tmp)\n",
      "/home/bcho/PROJECTS/risktools-dev/src/risktools/data/__init__.py:152: FutureWarning: The frame.append method is deprecated and will be removed from pandas in a future version. Use pandas.concat instead.\n",
      "  rf = rf.append(tmp)\n",
      "/home/bcho/PROJECTS/risktools-dev/src/risktools/data/__init__.py:152: FutureWarning: The frame.append method is deprecated and will be removed from pandas in a future version. Use pandas.concat instead.\n",
      "  rf = rf.append(tmp)\n",
      "/home/bcho/PROJECTS/risktools-dev/src/risktools/data/__init__.py:152: FutureWarning: The frame.append method is deprecated and will be removed from pandas in a future version. Use pandas.concat instead.\n",
      "  rf = rf.append(tmp)\n",
      "/home/bcho/PROJECTS/risktools-dev/src/risktools/data/__init__.py:152: FutureWarning: The frame.append method is deprecated and will be removed from pandas in a future version. Use pandas.concat instead.\n",
      "  rf = rf.append(tmp)\n",
      "/home/bcho/PROJECTS/risktools-dev/src/risktools/data/__init__.py:152: FutureWarning: The frame.append method is deprecated and will be removed from pandas in a future version. Use pandas.concat instead.\n",
      "  rf = rf.append(tmp)\n",
      "/home/bcho/PROJECTS/risktools-dev/src/risktools/data/__init__.py:152: FutureWarning: The frame.append method is deprecated and will be removed from pandas in a future version. Use pandas.concat instead.\n",
      "  rf = rf.append(tmp)\n",
      "/home/bcho/PROJECTS/risktools-dev/src/risktools/data/__init__.py:152: FutureWarning: The frame.append method is deprecated and will be removed from pandas in a future version. Use pandas.concat instead.\n",
      "  rf = rf.append(tmp)\n",
      "/home/bcho/PROJECTS/risktools-dev/src/risktools/data/__init__.py:152: FutureWarning: The frame.append method is deprecated and will be removed from pandas in a future version. Use pandas.concat instead.\n",
      "  rf = rf.append(tmp)\n",
      "/home/bcho/PROJECTS/risktools-dev/src/risktools/data/__init__.py:152: FutureWarning: The frame.append method is deprecated and will be removed from pandas in a future version. Use pandas.concat instead.\n",
      "  rf = rf.append(tmp)\n",
      "/home/bcho/PROJECTS/risktools-dev/src/risktools/data/__init__.py:152: FutureWarning: The frame.append method is deprecated and will be removed from pandas in a future version. Use pandas.concat instead.\n",
      "  rf = rf.append(tmp)\n",
      "/home/bcho/PROJECTS/risktools-dev/src/risktools/data/__init__.py:152: FutureWarning: The frame.append method is deprecated and will be removed from pandas in a future version. Use pandas.concat instead.\n",
      "  rf = rf.append(tmp)\n",
      "/home/bcho/PROJECTS/risktools-dev/src/risktools/data/__init__.py:152: FutureWarning: The frame.append method is deprecated and will be removed from pandas in a future version. Use pandas.concat instead.\n",
      "  rf = rf.append(tmp)\n",
      "/home/bcho/PROJECTS/risktools-dev/src/risktools/data/__init__.py:152: FutureWarning: The frame.append method is deprecated and will be removed from pandas in a future version. Use pandas.concat instead.\n",
      "  rf = rf.append(tmp)\n",
      "/home/bcho/PROJECTS/risktools-dev/src/risktools/data/__init__.py:152: FutureWarning: The frame.append method is deprecated and will be removed from pandas in a future version. Use pandas.concat instead.\n",
      "  rf = rf.append(tmp)\n",
      "/home/bcho/PROJECTS/risktools-dev/src/risktools/data/__init__.py:152: FutureWarning: The frame.append method is deprecated and will be removed from pandas in a future version. Use pandas.concat instead.\n",
      "  rf = rf.append(tmp)\n",
      "/home/bcho/PROJECTS/risktools-dev/src/risktools/data/__init__.py:152: FutureWarning: The frame.append method is deprecated and will be removed from pandas in a future version. Use pandas.concat instead.\n",
      "  rf = rf.append(tmp)\n",
      "/home/bcho/PROJECTS/risktools-dev/src/risktools/data/__init__.py:152: FutureWarning: The frame.append method is deprecated and will be removed from pandas in a future version. Use pandas.concat instead.\n",
      "  rf = rf.append(tmp)\n",
      "/home/bcho/PROJECTS/risktools-dev/src/risktools/data/__init__.py:152: FutureWarning: The frame.append method is deprecated and will be removed from pandas in a future version. Use pandas.concat instead.\n",
      "  rf = rf.append(tmp)\n",
      "/home/bcho/PROJECTS/risktools-dev/src/risktools/data/__init__.py:152: FutureWarning: The frame.append method is deprecated and will be removed from pandas in a future version. Use pandas.concat instead.\n",
      "  rf = rf.append(tmp)\n",
      "/home/bcho/PROJECTS/risktools-dev/src/risktools/data/__init__.py:152: FutureWarning: The frame.append method is deprecated and will be removed from pandas in a future version. Use pandas.concat instead.\n",
      "  rf = rf.append(tmp)\n",
      "/home/bcho/PROJECTS/risktools-dev/src/risktools/data/__init__.py:152: FutureWarning: The frame.append method is deprecated and will be removed from pandas in a future version. Use pandas.concat instead.\n",
      "  rf = rf.append(tmp)\n",
      "/home/bcho/PROJECTS/risktools-dev/src/risktools/data/__init__.py:152: FutureWarning: The frame.append method is deprecated and will be removed from pandas in a future version. Use pandas.concat instead.\n",
      "  rf = rf.append(tmp)\n",
      "/home/bcho/PROJECTS/risktools-dev/src/risktools/data/__init__.py:152: FutureWarning: The frame.append method is deprecated and will be removed from pandas in a future version. Use pandas.concat instead.\n",
      "  rf = rf.append(tmp)\n",
      "/home/bcho/PROJECTS/risktools-dev/src/risktools/data/__init__.py:152: FutureWarning: The frame.append method is deprecated and will be removed from pandas in a future version. Use pandas.concat instead.\n",
      "  rf = rf.append(tmp)\n",
      "/home/bcho/PROJECTS/risktools-dev/src/risktools/data/__init__.py:152: FutureWarning: The frame.append method is deprecated and will be removed from pandas in a future version. Use pandas.concat instead.\n",
      "  rf = rf.append(tmp)\n",
      "/home/bcho/PROJECTS/risktools-dev/src/risktools/data/__init__.py:152: FutureWarning: The frame.append method is deprecated and will be removed from pandas in a future version. Use pandas.concat instead.\n",
      "  rf = rf.append(tmp)\n",
      "/home/bcho/PROJECTS/risktools-dev/src/risktools/data/__init__.py:152: FutureWarning: The frame.append method is deprecated and will be removed from pandas in a future version. Use pandas.concat instead.\n",
      "  rf = rf.append(tmp)\n",
      "/home/bcho/PROJECTS/risktools-dev/src/risktools/data/__init__.py:152: FutureWarning: The frame.append method is deprecated and will be removed from pandas in a future version. Use pandas.concat instead.\n",
      "  rf = rf.append(tmp)\n",
      "/home/bcho/PROJECTS/risktools-dev/src/risktools/data/__init__.py:152: FutureWarning: The frame.append method is deprecated and will be removed from pandas in a future version. Use pandas.concat instead.\n",
      "  rf = rf.append(tmp)\n",
      "/home/bcho/PROJECTS/risktools-dev/src/risktools/data/__init__.py:152: FutureWarning: The frame.append method is deprecated and will be removed from pandas in a future version. Use pandas.concat instead.\n",
      "  rf = rf.append(tmp)\n",
      "/home/bcho/PROJECTS/risktools-dev/src/risktools/data/__init__.py:152: FutureWarning: The frame.append method is deprecated and will be removed from pandas in a future version. Use pandas.concat instead.\n",
      "  rf = rf.append(tmp)\n",
      "/home/bcho/PROJECTS/risktools-dev/src/risktools/data/__init__.py:152: FutureWarning: The frame.append method is deprecated and will be removed from pandas in a future version. Use pandas.concat instead.\n",
      "  rf = rf.append(tmp)\n",
      "/home/bcho/PROJECTS/risktools-dev/src/risktools/data/__init__.py:152: FutureWarning: The frame.append method is deprecated and will be removed from pandas in a future version. Use pandas.concat instead.\n",
      "  rf = rf.append(tmp)\n",
      "/home/bcho/PROJECTS/risktools-dev/src/risktools/data/__init__.py:152: FutureWarning: The frame.append method is deprecated and will be removed from pandas in a future version. Use pandas.concat instead.\n",
      "  rf = rf.append(tmp)\n",
      "/home/bcho/PROJECTS/risktools-dev/src/risktools/data/__init__.py:152: FutureWarning: The frame.append method is deprecated and will be removed from pandas in a future version. Use pandas.concat instead.\n",
      "  rf = rf.append(tmp)\n",
      "/home/bcho/PROJECTS/risktools-dev/src/risktools/data/__init__.py:152: FutureWarning: The frame.append method is deprecated and will be removed from pandas in a future version. Use pandas.concat instead.\n",
      "  rf = rf.append(tmp)\n",
      "/home/bcho/PROJECTS/risktools-dev/src/risktools/data/__init__.py:152: FutureWarning: The frame.append method is deprecated and will be removed from pandas in a future version. Use pandas.concat instead.\n",
      "  rf = rf.append(tmp)\n",
      "/home/bcho/PROJECTS/risktools-dev/src/risktools/data/__init__.py:152: FutureWarning: The frame.append method is deprecated and will be removed from pandas in a future version. Use pandas.concat instead.\n",
      "  rf = rf.append(tmp)\n",
      "/home/bcho/PROJECTS/risktools-dev/src/risktools/data/__init__.py:152: FutureWarning: The frame.append method is deprecated and will be removed from pandas in a future version. Use pandas.concat instead.\n",
      "  rf = rf.append(tmp)\n",
      "/home/bcho/PROJECTS/risktools-dev/src/risktools/data/__init__.py:152: FutureWarning: The frame.append method is deprecated and will be removed from pandas in a future version. Use pandas.concat instead.\n",
      "  rf = rf.append(tmp)\n",
      "/home/bcho/PROJECTS/risktools-dev/src/risktools/data/__init__.py:152: FutureWarning: The frame.append method is deprecated and will be removed from pandas in a future version. Use pandas.concat instead.\n",
      "  rf = rf.append(tmp)\n",
      "/home/bcho/PROJECTS/risktools-dev/src/risktools/data/__init__.py:152: FutureWarning: The frame.append method is deprecated and will be removed from pandas in a future version. Use pandas.concat instead.\n",
      "  rf = rf.append(tmp)\n",
      "/home/bcho/PROJECTS/risktools-dev/src/risktools/data/__init__.py:152: FutureWarning: The frame.append method is deprecated and will be removed from pandas in a future version. Use pandas.concat instead.\n",
      "  rf = rf.append(tmp)\n",
      "/home/bcho/PROJECTS/risktools-dev/src/risktools/data/__init__.py:152: FutureWarning: The frame.append method is deprecated and will be removed from pandas in a future version. Use pandas.concat instead.\n",
      "  rf = rf.append(tmp)\n",
      "/home/bcho/PROJECTS/risktools-dev/src/risktools/data/__init__.py:152: FutureWarning: The frame.append method is deprecated and will be removed from pandas in a future version. Use pandas.concat instead.\n",
      "  rf = rf.append(tmp)\n",
      "/home/bcho/PROJECTS/risktools-dev/src/risktools/data/__init__.py:152: FutureWarning: The frame.append method is deprecated and will be removed from pandas in a future version. Use pandas.concat instead.\n",
      "  rf = rf.append(tmp)\n",
      "/home/bcho/PROJECTS/risktools-dev/src/risktools/data/__init__.py:152: FutureWarning: The frame.append method is deprecated and will be removed from pandas in a future version. Use pandas.concat instead.\n",
      "  rf = rf.append(tmp)\n",
      "/home/bcho/PROJECTS/risktools-dev/src/risktools/data/__init__.py:152: FutureWarning: The frame.append method is deprecated and will be removed from pandas in a future version. Use pandas.concat instead.\n",
      "  rf = rf.append(tmp)\n",
      "/home/bcho/PROJECTS/risktools-dev/src/risktools/data/__init__.py:152: FutureWarning: The frame.append method is deprecated and will be removed from pandas in a future version. Use pandas.concat instead.\n",
      "  rf = rf.append(tmp)\n",
      "/home/bcho/PROJECTS/risktools-dev/src/risktools/data/__init__.py:152: FutureWarning: The frame.append method is deprecated and will be removed from pandas in a future version. Use pandas.concat instead.\n",
      "  rf = rf.append(tmp)\n",
      "/home/bcho/PROJECTS/risktools-dev/src/risktools/data/__init__.py:152: FutureWarning: The frame.append method is deprecated and will be removed from pandas in a future version. Use pandas.concat instead.\n",
      "  rf = rf.append(tmp)\n",
      "/home/bcho/PROJECTS/risktools-dev/src/risktools/data/__init__.py:152: FutureWarning: The frame.append method is deprecated and will be removed from pandas in a future version. Use pandas.concat instead.\n",
      "  rf = rf.append(tmp)\n",
      "/home/bcho/PROJECTS/risktools-dev/src/risktools/data/__init__.py:152: FutureWarning: The frame.append method is deprecated and will be removed from pandas in a future version. Use pandas.concat instead.\n",
      "  rf = rf.append(tmp)\n",
      "/home/bcho/PROJECTS/risktools-dev/src/risktools/data/__init__.py:152: FutureWarning: The frame.append method is deprecated and will be removed from pandas in a future version. Use pandas.concat instead.\n",
      "  rf = rf.append(tmp)\n",
      "/home/bcho/PROJECTS/risktools-dev/src/risktools/data/__init__.py:152: FutureWarning: The frame.append method is deprecated and will be removed from pandas in a future version. Use pandas.concat instead.\n",
      "  rf = rf.append(tmp)\n",
      "/home/bcho/PROJECTS/risktools-dev/src/risktools/data/__init__.py:152: FutureWarning: The frame.append method is deprecated and will be removed from pandas in a future version. Use pandas.concat instead.\n",
      "  rf = rf.append(tmp)\n",
      "/home/bcho/PROJECTS/risktools-dev/src/risktools/data/__init__.py:152: FutureWarning: The frame.append method is deprecated and will be removed from pandas in a future version. Use pandas.concat instead.\n",
      "  rf = rf.append(tmp)\n",
      "/home/bcho/PROJECTS/risktools-dev/src/risktools/data/__init__.py:152: FutureWarning: The frame.append method is deprecated and will be removed from pandas in a future version. Use pandas.concat instead.\n",
      "  rf = rf.append(tmp)\n",
      "/home/bcho/PROJECTS/risktools-dev/src/risktools/data/__init__.py:152: FutureWarning: The frame.append method is deprecated and will be removed from pandas in a future version. Use pandas.concat instead.\n",
      "  rf = rf.append(tmp)\n",
      "/home/bcho/PROJECTS/risktools-dev/src/risktools/data/__init__.py:152: FutureWarning: The frame.append method is deprecated and will be removed from pandas in a future version. Use pandas.concat instead.\n",
      "  rf = rf.append(tmp)\n",
      "/home/bcho/PROJECTS/risktools-dev/src/risktools/data/__init__.py:152: FutureWarning: The frame.append method is deprecated and will be removed from pandas in a future version. Use pandas.concat instead.\n",
      "  rf = rf.append(tmp)\n",
      "/home/bcho/PROJECTS/risktools-dev/src/risktools/data/__init__.py:152: FutureWarning: The frame.append method is deprecated and will be removed from pandas in a future version. Use pandas.concat instead.\n",
      "  rf = rf.append(tmp)\n",
      "/home/bcho/PROJECTS/risktools-dev/src/risktools/data/__init__.py:152: FutureWarning: The frame.append method is deprecated and will be removed from pandas in a future version. Use pandas.concat instead.\n",
      "  rf = rf.append(tmp)\n",
      "/home/bcho/PROJECTS/risktools-dev/src/risktools/data/__init__.py:152: FutureWarning: The frame.append method is deprecated and will be removed from pandas in a future version. Use pandas.concat instead.\n",
      "  rf = rf.append(tmp)\n",
      "/home/bcho/PROJECTS/risktools-dev/src/risktools/data/__init__.py:152: FutureWarning: The frame.append method is deprecated and will be removed from pandas in a future version. Use pandas.concat instead.\n",
      "  rf = rf.append(tmp)\n",
      "/home/bcho/PROJECTS/risktools-dev/src/risktools/data/__init__.py:152: FutureWarning: The frame.append method is deprecated and will be removed from pandas in a future version. Use pandas.concat instead.\n",
      "  rf = rf.append(tmp)\n",
      "/home/bcho/PROJECTS/risktools-dev/src/risktools/data/__init__.py:152: FutureWarning: The frame.append method is deprecated and will be removed from pandas in a future version. Use pandas.concat instead.\n",
      "  rf = rf.append(tmp)\n",
      "/home/bcho/PROJECTS/risktools-dev/src/risktools/data/__init__.py:152: FutureWarning: The frame.append method is deprecated and will be removed from pandas in a future version. Use pandas.concat instead.\n",
      "  rf = rf.append(tmp)\n",
      "/home/bcho/PROJECTS/risktools-dev/src/risktools/data/__init__.py:152: FutureWarning: The frame.append method is deprecated and will be removed from pandas in a future version. Use pandas.concat instead.\n",
      "  rf = rf.append(tmp)\n",
      "/home/bcho/PROJECTS/risktools-dev/src/risktools/data/__init__.py:122: UserWarning: File actions for crudeassaysXOM not defined. Running default behavior.\n",
      "  _warnings.warn(f\"File actions for {nm} not defined. Running default behavior.\")\n",
      "/home/bcho/PROJECTS/risktools-dev/src/risktools/data/__init__.py:152: FutureWarning: The frame.append method is deprecated and will be removed from pandas in a future version. Use pandas.concat instead.\n",
      "  rf = rf.append(tmp)\n",
      "/home/bcho/PROJECTS/risktools-dev/src/risktools/data/__init__.py:122: UserWarning: File actions for crudeassaysXOM not defined. Running default behavior.\n",
      "  _warnings.warn(f\"File actions for {nm} not defined. Running default behavior.\")\n"
     ]
    },
    {
     "name": "stdout",
     "output_type": "stream",
     "text": [
      "crudeassaysXOM\n",
      "crudes\n",
      "dflong\n",
      "dfwide\n",
      "df_fut\n",
      "eiaStocks\n",
      "eiaStorageCap\n",
      "expiry_table\n",
      "fizdiffs\n",
      "holidaysOil\n",
      "planets\n",
      "ref_opt_inputs\n",
      "ref_opt_outputs\n",
      "tickers_eia\n",
      "tradeCycle\n",
      "tradeprocess\n",
      "usSwapCurves\n",
      "usSwapCurvesPar\n",
      "usSwapIR\n",
      "usSwapIRdef\n",
      "wti_swap\n",
      "ry\n",
      "CLc1\n",
      "CLc2\n",
      "CLc1c2\n",
      "futures_months\n",
      "futures_specs\n",
      "ohlc\n",
      "spy\n"
     ]
    }
   ],
   "source": [
    "for nm in rt.data.get_names():\n",
    "    print(nm)\n",
    "    \n",
    "    if isinstance(rt.data.open_data(nm), pd.DataFrame):\n",
    "        assert rt.data.open_data(nm).shape[0] > 0, f\"{nm} failed\""
   ]
  },
  {
   "cell_type": "code",
   "execution_count": null,
   "metadata": {},
   "outputs": [],
   "source": [
    "rt.simOUJ(theta=5,dt=1/252, mr_lag=15, T=5).iloc[:,:100].plot(legend=False, figsize=(20,10))"
   ]
  },
  {
   "cell_type": "code",
   "execution_count": null,
   "metadata": {},
   "outputs": [],
   "source": [
    "mvgbm = rt.MVGBM(\n",
    "    s0=[100,100,100], \n",
    "    r=0.0, \n",
    "    sigma=[.2,.2,.2], \n",
    "    T=0.25, \n",
    "    dt=1/252, \n",
    "    cor=[[1,0.5,0.5],[0.5,1,0.5],[0.5,0.5,1]],\n",
    "    asset_names=['A','B','C']\n",
    "    )\n",
    "mvgbm.fit()\n",
    "mvgbm.simulate()\n",
    "mvgbm.plot_efficient_frontier(strike=100)"
   ]
  },
  {
   "cell_type": "code",
   "execution_count": null,
   "metadata": {},
   "outputs": [],
   "source": [
    "i = np.random.randint(0,1000)\n",
    "print(i)\n",
    "prices = pd.DataFrame(mvgbm.sims[:,i,:])\n",
    "prices"
   ]
  },
  {
   "cell_type": "code",
   "execution_count": null,
   "metadata": {},
   "outputs": [],
   "source": [
    "returns = np.log(prices) - np.log(prices).shift(1)"
   ]
  },
  {
   "cell_type": "code",
   "execution_count": null,
   "metadata": {},
   "outputs": [],
   "source": [
    "returns.dropna().std()*np.sqrt(252)"
   ]
  },
  {
   "cell_type": "code",
   "execution_count": null,
   "metadata": {},
   "outputs": [],
   "source": [
    "mvgbm2 = rt.MVGBM(\n",
    "    r=0.0, \n",
    "    T=0.25, \n",
    "    dt=1/252, \n",
    "    prices=prices\n",
    "    )\n",
    "mvgbm2.fit()\n",
    "mvgbm2._s0=[100,100,100]\n",
    "mvgbm2.simulate()\n",
    "mvgbm2.plot_efficient_frontier(strike=100, portfolio_sims=10000)"
   ]
  },
  {
   "cell_type": "code",
   "execution_count": null,
   "metadata": {},
   "outputs": [],
   "source": [
    "pd.DataFrame(mvgbm2.sims[:,:,0]).iloc[:,:100].plot(legend=False)"
   ]
  },
  {
   "cell_type": "code",
   "execution_count": null,
   "metadata": {},
   "outputs": [],
   "source": [
    "mvgbm2._sigma"
   ]
  },
  {
   "cell_type": "code",
   "execution_count": null,
   "metadata": {},
   "outputs": [],
   "source": [
    "mvgbm2._cor"
   ]
  },
  {
   "cell_type": "code",
   "execution_count": null,
   "metadata": {},
   "outputs": [],
   "source": []
  }
 ],
 "metadata": {
  "kernelspec": {
   "display_name": "Python 3.10.6 ('env': venv)",
   "language": "python",
   "name": "python3"
  },
  "language_info": {
   "codemirror_mode": {
    "name": "ipython",
    "version": 3
   },
   "file_extension": ".py",
   "mimetype": "text/x-python",
   "name": "python",
   "nbconvert_exporter": "python",
   "pygments_lexer": "ipython3",
   "version": "3.10.6"
  },
  "orig_nbformat": 4,
  "vscode": {
   "interpreter": {
    "hash": "0bc7203a7e7b29290d4a747e7383c500ba464662cf4eb3cbbf948c94dd660ba4"
   }
  }
 },
 "nbformat": 4,
 "nbformat_minor": 2
}
